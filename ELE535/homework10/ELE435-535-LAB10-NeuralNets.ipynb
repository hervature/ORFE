{
 "cells": [
  {
   "cell_type": "markdown",
   "metadata": {},
   "source": [
    "# ELE435-535 Computational LAB 10"
   ]
  },
  {
   "cell_type": "markdown",
   "metadata": {},
   "source": [
    "# LAB Parts:\n",
    "\n",
    "## 1) TensorFlow Installation\n",
    "## 2) Implementing a multi-layer perceptron with TensorFlow\n",
    "## 3) Having fun with TensorFlow Playground"
   ]
  },
  {
   "cell_type": "markdown",
   "metadata": {},
   "source": [
    "### 1) TensorFlow Installation"
   ]
  },
  {
   "cell_type": "markdown",
   "metadata": {},
   "source": [
    "TensorFlow is a free and an open source software library for numerical computation using data flow graphs. It was originally developed by researchers and engineers working on the Google Brain Team within Google's Machine Intelligence research organization for the purposes of conducting machine learning and deep neural networks research. However, it's applicable in a\n",
    "wide variety of other domains as well."
   ]
  },
  {
   "cell_type": "markdown",
   "metadata": {},
   "source": [
    "1. Install Anaconda by following the instructions here https://www.anaconda.com/download. This should work for all MAC, Linux and Windows operating systems.\n",
    "2. Open your Anaconda terminal and create a new environment called tensorflow using the following command: <br> conda create -n tensorflow python=3.6 <br>\n",
    "3. Now, activate your tensorflow environment by typing <br> source activate tensorflow (MAC and Linux) <br> activate tensorflow (Windows) <br>\n",
    "4. Once the new envoironment is activated, we are going to install the following packages:<br> conda install ipython <br> conda install jupyter <br> conda install matplotlib <br> conda install -c conda-forge tensorflow "
   ]
  },
  {
   "cell_type": "markdown",
   "metadata": {},
   "source": [
    "### 2) Implementing a MLP with TensorFlow"
   ]
  },
  {
   "cell_type": "markdown",
   "metadata": {},
   "source": [
    "There are many well-written tutorials on how to use TensorFlow. For example, see: https://www.tensorflow.org/guide/low_level_intro <br> https://www.datacamp.com/community/tutorials/tensorflow-tutorial <br>\n",
    "Further, these days high-level APIs such as Keras has made it very easy to train very deep neural networks. For example, simply with 4-5 lines of code with Keras running on top of TensorFlow (https://www.tensorflow.org/tutorials/), you can get more than 99% test accuracy on MNIST. However, to understand the underlying flow better, we are going to work with the low-level back-end."
   ]
  },
  {
   "cell_type": "markdown",
   "metadata": {},
   "source": [
    "Here's a simple code that trains a one layer neural network with linear activation function. We use Cross-entropy as the loss function and SGD for learning the model."
   ]
  },
  {
   "cell_type": "code",
   "execution_count": 1,
   "metadata": {},
   "outputs": [],
   "source": [
    "import matplotlib.pyplot as plt\n",
    "import tensorflow as tf\n",
    "import numpy as np"
   ]
  },
  {
   "cell_type": "code",
   "execution_count": 2,
   "metadata": {},
   "outputs": [
    {
     "name": "stdout",
     "output_type": "stream",
     "text": [
      "WARNING:tensorflow:From <ipython-input-2-c3d55fec490c>:2: read_data_sets (from tensorflow.contrib.learn.python.learn.datasets.mnist) is deprecated and will be removed in a future version.\n",
      "Instructions for updating:\n",
      "Please use alternatives such as official/mnist/dataset.py from tensorflow/models.\n",
      "WARNING:tensorflow:From /home/zachary/tensorflow/lib/python3.6/site-packages/tensorflow/contrib/learn/python/learn/datasets/mnist.py:260: maybe_download (from tensorflow.contrib.learn.python.learn.datasets.base) is deprecated and will be removed in a future version.\n",
      "Instructions for updating:\n",
      "Please write your own downloading logic.\n",
      "WARNING:tensorflow:From /home/zachary/tensorflow/lib/python3.6/site-packages/tensorflow/contrib/learn/python/learn/datasets/mnist.py:262: extract_images (from tensorflow.contrib.learn.python.learn.datasets.mnist) is deprecated and will be removed in a future version.\n",
      "Instructions for updating:\n",
      "Please use tf.data to implement this functionality.\n",
      "Extracting /tmp/data/train-images-idx3-ubyte.gz\n",
      "WARNING:tensorflow:From /home/zachary/tensorflow/lib/python3.6/site-packages/tensorflow/contrib/learn/python/learn/datasets/mnist.py:267: extract_labels (from tensorflow.contrib.learn.python.learn.datasets.mnist) is deprecated and will be removed in a future version.\n",
      "Instructions for updating:\n",
      "Please use tf.data to implement this functionality.\n",
      "Extracting /tmp/data/train-labels-idx1-ubyte.gz\n",
      "WARNING:tensorflow:From /home/zachary/tensorflow/lib/python3.6/site-packages/tensorflow/contrib/learn/python/learn/datasets/mnist.py:110: dense_to_one_hot (from tensorflow.contrib.learn.python.learn.datasets.mnist) is deprecated and will be removed in a future version.\n",
      "Instructions for updating:\n",
      "Please use tf.one_hot on tensors.\n",
      "Extracting /tmp/data/t10k-images-idx3-ubyte.gz\n",
      "Extracting /tmp/data/t10k-labels-idx1-ubyte.gz\n",
      "WARNING:tensorflow:From /home/zachary/tensorflow/lib/python3.6/site-packages/tensorflow/contrib/learn/python/learn/datasets/mnist.py:290: DataSet.__init__ (from tensorflow.contrib.learn.python.learn.datasets.mnist) is deprecated and will be removed in a future version.\n",
      "Instructions for updating:\n",
      "Please use alternatives such as official/mnist/dataset.py from tensorflow/models.\n"
     ]
    }
   ],
   "source": [
    "from tensorflow.examples.tutorials.mnist import input_data\n",
    "mnist = input_data.read_data_sets(\"/tmp/data/\", one_hot=True)"
   ]
  },
  {
   "cell_type": "code",
   "execution_count": 3,
   "metadata": {},
   "outputs": [
    {
     "name": "stdout",
     "output_type": "stream",
     "text": [
      "WARNING:tensorflow:From <ipython-input-3-5e1602bfc3d1>:23: softmax_cross_entropy_with_logits (from tensorflow.python.ops.nn_ops) is deprecated and will be removed in a future version.\n",
      "Instructions for updating:\n",
      "\n",
      "Future major versions of TensorFlow will allow gradients to flow\n",
      "into the labels input on backprop by default.\n",
      "\n",
      "See tf.nn.softmax_cross_entropy_with_logits_v2.\n",
      "\n",
      "step 0, training loss= 65.393814, training acc= 17.1875%\n",
      "step 1000, training loss= 0.099181615, training acc= 95.3125%\n",
      "step 2000, training loss= 0.69918907, training acc= 92.1875%\n",
      "step 3000, training loss= 0.0618574, training acc= 98.4375%\n",
      "step 4000, training loss= 0.32768267, training acc= 96.875%\n",
      "step 5000, training loss= 0.092950374, training acc= 96.875%\n",
      "step 6000, training loss= 0.5601745, training acc= 93.75%\n",
      "step 7000, training loss= 0.30464762, training acc= 95.3125%\n",
      "step 8000, training loss= 0.094346195, training acc= 95.3125%\n",
      "step 9000, training loss= 0.041880958, training acc= 100.0%\n",
      "Test acc= 88.31 %\n"
     ]
    }
   ],
   "source": [
    "## Building the graph\n",
    "\n",
    "num_hidden_neurons=64\n",
    "learning_rate = 0.1\n",
    "num_steps = 10000\n",
    "batch_size = 64\n",
    "\n",
    "X = tf.placeholder(\"float\", [None, 784])\n",
    "Y = tf.placeholder(\"float\", [None, 10])\n",
    "weights = {\n",
    "    'h1': tf.Variable(tf.random_normal([784, num_hidden_neurons])),\n",
    "    'out': tf.Variable(tf.random_normal([num_hidden_neurons, 10]))\n",
    "}\n",
    "biases = {\n",
    "    'b1': tf.Variable(tf.random_normal([num_hidden_neurons])),\n",
    "    'out': tf.Variable(tf.random_normal([10]))\n",
    "}\n",
    "def neural_net(x):\n",
    "    layer_1 = tf.add(tf.matmul(x, weights['h1']), biases['b1'])\n",
    "    out_layer = tf.matmul(layer_1, weights['out']) + biases['out']\n",
    "    return out_layer\n",
    "\n",
    "loss = tf.reduce_mean(tf.nn.softmax_cross_entropy_with_logits(logits=neural_net(X), labels=Y))\n",
    "optimizer = tf.train.GradientDescentOptimizer(learning_rate=learning_rate)\n",
    "train_op = optimizer.minimize(loss)\n",
    "correct_pred = tf.equal(tf.argmax(neural_net(X), 1), tf.argmax(Y, 1))\n",
    "accuracy = tf.reduce_mean(tf.cast(correct_pred, tf.float32))\n",
    "\n",
    "### Initialization and running the model\n",
    "with tf.Session() as sess:\n",
    "    sess.run(tf.global_variables_initializer())\n",
    "\n",
    "    for step in range(0, num_steps):\n",
    "        batch_x, batch_y = mnist.train.next_batch(batch_size)\n",
    "        sess.run(train_op, feed_dict={X: batch_x, Y: batch_y})\n",
    "        if step % 1000 == 0:\n",
    "            train_loss, train_acc = sess.run([loss, accuracy], feed_dict={X: batch_x,Y: batch_y})\n",
    "            print(\"step \" + str(step) + \", training loss= \" + str(train_loss) +\", training acc= \"+str(train_acc*100)+\"%\")\n",
    "\n",
    "    print(\"Test acc=\",str(sess.run(accuracy*100, feed_dict={X: mnist.test.images,Y: mnist.test.labels})), \"%\")"
   ]
  },
  {
   "cell_type": "markdown",
   "metadata": {},
   "source": [
    "1) Increase the number of neurons in the hidden layer to 128, 256, 512 and 1024. Plot the training loss and test accuracy vs the number of neurons (in two separate plots)."
   ]
  },
  {
   "cell_type": "code",
   "execution_count": 4,
   "metadata": {},
   "outputs": [
    {
     "name": "stdout",
     "output_type": "stream",
     "text": [
      "step 0, training loss= 73.73592, training acc= 23.4375%\n",
      "step 1000, training loss= 0.19793873, training acc= 93.75%\n",
      "step 2000, training loss= 0.037162513, training acc= 98.4375%\n",
      "step 3000, training loss= 0.47285286, training acc= 90.625%\n",
      "step 4000, training loss= 0.20240417, training acc= 93.75%\n",
      "step 5000, training loss= 0.054046445, training acc= 98.4375%\n",
      "step 6000, training loss= 0.028095331, training acc= 98.4375%\n",
      "step 7000, training loss= 0.08285137, training acc= 96.875%\n",
      "step 8000, training loss= 0.1680573, training acc= 95.3125%\n",
      "step 9000, training loss= 0.051575698, training acc= 98.4375%\n",
      "Test acc= 88.65 %\n",
      "step 0, training loss= 94.53021, training acc= 23.4375%\n",
      "step 1000, training loss= 0.28732166, training acc= 98.4375%\n",
      "step 2000, training loss= 0.07500735, training acc= 96.875%\n",
      "step 3000, training loss= 0.19524021, training acc= 96.875%\n",
      "step 4000, training loss= 0.13347794, training acc= 96.875%\n",
      "step 5000, training loss= 0.17387928, training acc= 96.875%\n",
      "step 6000, training loss= 0.2576799, training acc= 93.75%\n",
      "step 7000, training loss= 0.32054645, training acc= 98.4375%\n",
      "step 8000, training loss= 0.20985733, training acc= 96.875%\n",
      "step 9000, training loss= 0.005629118, training acc= 100.0%\n",
      "Test acc= 87.86 %\n",
      "step 0, training loss= 250.93887, training acc= 32.8125%\n",
      "step 1000, training loss= 4.854502, training acc= 95.3125%\n",
      "step 2000, training loss= 1.5974153, training acc= 98.4375%\n",
      "step 3000, training loss= 1.0241343, training acc= 96.875%\n",
      "step 4000, training loss= 0.23790008, training acc= 93.75%\n",
      "step 5000, training loss= 0.30182123, training acc= 98.4375%\n",
      "step 6000, training loss= 0.09228462, training acc= 96.875%\n",
      "step 7000, training loss= 0.048695818, training acc= 98.4375%\n",
      "step 8000, training loss= 0.0017330432, training acc= 100.0%\n",
      "step 9000, training loss= 0.12662846, training acc= 95.3125%\n",
      "Test acc= 89.01 %\n",
      "step 0, training loss= 377.2871, training acc= 31.25%\n",
      "step 1000, training loss= 0.95855105, training acc= 93.75%\n",
      "step 2000, training loss= 0.87449324, training acc= 95.3125%\n",
      "step 3000, training loss= 0.510286, training acc= 92.1875%\n",
      "step 4000, training loss= 0.2839691, training acc= 98.4375%\n",
      "step 5000, training loss= 0.6529535, training acc= 98.4375%\n",
      "step 6000, training loss= 0.7618207, training acc= 95.3125%\n",
      "step 7000, training loss= 0.34314924, training acc= 95.3125%\n",
      "step 8000, training loss= 3.5017524e-07, training acc= 100.0%\n",
      "step 9000, training loss= 0.22033155, training acc= 95.3125%\n",
      "Test acc= 88.1 %\n",
      "step 0, training loss= 305.65167, training acc= 39.0625%\n",
      "step 1000, training loss= 0.64865875, training acc= 98.4375%\n",
      "step 2000, training loss= 1.5038629, training acc= 96.875%\n",
      "step 3000, training loss= 0.00056173967, training acc= 100.0%\n",
      "step 4000, training loss= 0.31335172, training acc= 96.875%\n",
      "step 5000, training loss= 4.470342e-08, training acc= 100.0%\n",
      "step 6000, training loss= 0.8093043, training acc= 98.4375%\n",
      "step 7000, training loss= 13.842608, training acc= 90.625%\n",
      "step 8000, training loss= 1.0235505, training acc= 98.4375%\n",
      "step 9000, training loss= 2.1538167, training acc= 93.75%\n",
      "Test acc= 88.26 %\n"
     ]
    },
    {
     "data": {
      "image/png": "[encoded data removed]",
      "text/plain": [
       "<Figure size 432x288 with 1 Axes>"
      ]
     },
     "metadata": {
      "needs_background": "light"
     },
     "output_type": "display_data"
    },
    {
     "data": {
      "image/png": "[encoded data removed]",
      "text/plain": [
       "<Figure size 432x288 with 1 Axes>"
      ]
     },
     "metadata": {
      "needs_background": "light"
     },
     "output_type": "display_data"
    }
   ],
   "source": [
    "num_neurons = [2**x for x in range(6,11)]\n",
    "accuracies = []\n",
    "training_losses = []\n",
    "\n",
    "with tf.Session() as sess:\n",
    "\n",
    "    for n in num_neurons:\n",
    "        num_hidden_neurons = n\n",
    "\n",
    "        weights = {\n",
    "            'h1': tf.Variable(tf.random_normal([784, num_hidden_neurons])),\n",
    "            'out': tf.Variable(tf.random_normal([num_hidden_neurons, 10]))\n",
    "        }\n",
    "        biases = {\n",
    "            'b1': tf.Variable(tf.random_normal([num_hidden_neurons])),\n",
    "            'out': tf.Variable(tf.random_normal([10]))\n",
    "        }\n",
    "        \n",
    "        loss = tf.reduce_mean(tf.nn.softmax_cross_entropy_with_logits(logits=neural_net(X), labels=Y))\n",
    "        optimizer = tf.train.GradientDescentOptimizer(learning_rate=learning_rate)\n",
    "        train_op = optimizer.minimize(loss)\n",
    "        correct_pred = tf.equal(tf.argmax(neural_net(X), 1), tf.argmax(Y, 1))\n",
    "        accuracy = tf.reduce_mean(tf.cast(correct_pred, tf.float32))\n",
    "        \n",
    "        sess.run(tf.global_variables_initializer())\n",
    "\n",
    "        for step in range(0, num_steps):\n",
    "            batch_x, batch_y = mnist.train.next_batch(batch_size)\n",
    "            sess.run(train_op, feed_dict={X: batch_x, Y: batch_y})\n",
    "            if step % 1000 == 0:\n",
    "                train_loss, train_acc = sess.run([loss, accuracy], feed_dict={X: batch_x,Y: batch_y})\n",
    "                print(\"step \" + str(step) + \", training loss= \" + str(train_loss) +\", training acc= \"+str(train_acc*100)+\"%\")\n",
    "\n",
    "        print(\"Test acc=\",str(sess.run(accuracy*100, feed_dict={X: mnist.test.images,Y: mnist.test.labels})), \"%\")\n",
    "        accuracies.append(sess.run(accuracy*100, feed_dict={X: mnist.test.images,Y: mnist.test.labels}))\n",
    "        training_losses.append(sess.run(loss, feed_dict={X: batch_x,Y: batch_y}))\n",
    "        \n",
    "plt.figure()\n",
    "plt.plot(num_neurons, accuracies)\n",
    "plt.show()\n",
    "\n",
    "plt.figure()\n",
    "plt.plot(num_neurons, training_losses)\n",
    "plt.show()"
   ]
  },
  {
   "cell_type": "markdown",
   "metadata": {},
   "source": [
    "2) Inspired by the code above, train a MLP with 3 layers, the first layer with 64, the second layer with 128 and the final hidden layer with 256 neurons, respectively. Report the training and test accuracies."
   ]
  },
  {
   "cell_type": "code",
   "execution_count": 5,
   "metadata": {},
   "outputs": [
    {
     "name": "stdout",
     "output_type": "stream",
     "text": [
      "step 0, training loss= 21195.762, training acc= 7.8125%\n",
      "step 1000, training loss= 173.42236, training acc= 90.625%\n",
      "step 2000, training loss= 88.10405, training acc= 90.625%\n",
      "step 3000, training loss= 43.800327, training acc= 90.625%\n",
      "step 4000, training loss= 40.51535, training acc= 90.625%\n",
      "step 5000, training loss= 20.963165, training acc= 90.625%\n",
      "step 6000, training loss= 55.99587, training acc= 87.5%\n",
      "step 7000, training loss= 24.719666, training acc= 95.3125%\n",
      "step 8000, training loss= 35.219337, training acc= 89.0625%\n",
      "step 9000, training loss= 21.841433, training acc= 92.1875%\n",
      "Test acc= 82.36 %\n"
     ]
    }
   ],
   "source": [
    "learning_rate = 0.0001\n",
    "\n",
    "weights = {\n",
    "    'h1': tf.Variable(tf.random_normal([784, 64])),\n",
    "    'h2': tf.Variable(tf.random_normal([64, 128])),\n",
    "    'h3': tf.Variable(tf.random_normal([128, 256])),\n",
    "    'out': tf.Variable(tf.random_normal([256, 10]))\n",
    "}\n",
    "biases = {\n",
    "    'b1': tf.Variable(tf.random_normal([64])),\n",
    "    'b2': tf.Variable(tf.random_normal([128])),\n",
    "    'b3': tf.Variable(tf.random_normal([256])),\n",
    "    'out': tf.Variable(tf.random_normal([10]))\n",
    "}\n",
    "\n",
    "def neural_net_3(x):\n",
    "    layer_1 = tf.matmul(x, weights['h1']) + biases['b1']\n",
    "    layer_2 = tf.matmul(layer_1, weights['h2']) + biases['b2']\n",
    "    layer_3 = tf.matmul(layer_2, weights['h3']) + biases['b3']\n",
    "    out_layer = tf.matmul(layer_3, weights['out']) + biases['out']\n",
    "    return out_layer\n",
    "\n",
    "loss = tf.reduce_mean(tf.nn.softmax_cross_entropy_with_logits(logits=neural_net_3(X), labels=Y))\n",
    "optimizer = tf.train.GradientDescentOptimizer(learning_rate=learning_rate)\n",
    "train_op = optimizer.minimize(loss)\n",
    "correct_pred = tf.equal(tf.argmax(neural_net_3(X), 1), tf.argmax(Y, 1))\n",
    "accuracy = tf.reduce_mean(tf.cast(correct_pred, tf.float32))\n",
    "\n",
    "### Initialization and running the model\n",
    "with tf.Session() as sess:\n",
    "    sess.run(tf.global_variables_initializer())\n",
    "\n",
    "    for step in range(0, num_steps):\n",
    "        batch_x, batch_y = mnist.train.next_batch(batch_size)\n",
    "        sess.run(train_op, feed_dict={X: batch_x, Y: batch_y})\n",
    "        if step % 1000 == 0:\n",
    "            train_loss, train_acc = sess.run([loss, accuracy], feed_dict={X: batch_x,Y: batch_y})\n",
    "            print(\"step \" + str(step) + \", training loss= \" + str(train_loss) +\", training acc= \"+str(train_acc*100)+\"%\")\n",
    "\n",
    "    print(\"Test acc=\",str(sess.run(accuracy*100, feed_dict={X: mnist.test.images,Y: mnist.test.labels})), \"%\")"
   ]
  },
  {
   "cell_type": "markdown",
   "metadata": {},
   "source": [
    "3) Plot the training / test accuracy for when learning rate is {100, 10, 1, 0.1, 0.01, and 0.001}. Interpret the results."
   ]
  },
  {
   "cell_type": "code",
   "execution_count": 6,
   "metadata": {},
   "outputs": [
    {
     "name": "stdout",
     "output_type": "stream",
     "text": [
      "step 0, training loss= 15819.5625, training acc= 45.3125%\n",
      "step 1000, training loss= 33.42576, training acc= 96.875%\n",
      "step 2000, training loss= 58.498867, training acc= 95.3125%\n",
      "step 3000, training loss= 71.36689, training acc= 92.1875%\n",
      "step 4000, training loss= 11.017002, training acc= 90.625%\n",
      "step 5000, training loss= 14.1893215, training acc= 95.3125%\n",
      "step 6000, training loss= 4.0648904, training acc= 96.875%\n",
      "step 7000, training loss= 1.387703, training acc= 98.4375%\n",
      "step 8000, training loss= 14.730422, training acc= 95.3125%\n",
      "step 9000, training loss= 9.312147, training acc= 98.4375%\n",
      "Test acc= 86.159996 %\n",
      "step 0, training loss= 771866.1, training acc= 6.25%\n",
      "step 1000, training loss= nan, training acc= 10.9375%\n",
      "step 2000, training loss= nan, training acc= 6.25%\n",
      "step 3000, training loss= nan, training acc= 12.5%\n",
      "step 4000, training loss= nan, training acc= 4.6875%\n",
      "step 5000, training loss= nan, training acc= 15.625%\n",
      "step 6000, training loss= nan, training acc= 4.6875%\n",
      "step 7000, training loss= nan, training acc= 4.6875%\n",
      "step 8000, training loss= nan, training acc= 3.125%\n",
      "step 9000, training loss= nan, training acc= 6.25%\n",
      "Test acc= 9.8 %\n",
      "step 0, training loss= 1160217900.0, training acc= 9.375%\n",
      "step 1000, training loss= nan, training acc= 10.9375%\n",
      "step 2000, training loss= nan, training acc= 7.8125%\n",
      "step 3000, training loss= nan, training acc= 12.5%\n",
      "step 4000, training loss= nan, training acc= 10.9375%\n",
      "step 5000, training loss= nan, training acc= 10.9375%\n",
      "step 6000, training loss= nan, training acc= 14.0625%\n",
      "step 7000, training loss= nan, training acc= 6.25%\n",
      "step 8000, training loss= nan, training acc= 9.375%\n",
      "step 9000, training loss= nan, training acc= 7.8125%\n",
      "Test acc= 9.8 %\n",
      "step 0, training loss= 34139844000000.0, training acc= 9.375%\n",
      "step 1000, training loss= nan, training acc= 7.8125%\n",
      "step 2000, training loss= nan, training acc= 7.8125%\n",
      "step 3000, training loss= nan, training acc= 10.9375%\n",
      "step 4000, training loss= nan, training acc= 9.375%\n",
      "step 5000, training loss= nan, training acc= 9.375%\n",
      "step 6000, training loss= nan, training acc= 7.8125%\n",
      "step 7000, training loss= nan, training acc= 10.9375%\n",
      "step 8000, training loss= nan, training acc= 6.25%\n",
      "step 9000, training loss= nan, training acc= 10.9375%\n",
      "Test acc= 9.8 %\n",
      "step 0, training loss= 2.0109006e+17, training acc= 3.125%\n",
      "step 1000, training loss= nan, training acc= 7.8125%\n",
      "step 2000, training loss= nan, training acc= 17.1875%\n",
      "step 3000, training loss= nan, training acc= 10.9375%\n",
      "step 4000, training loss= nan, training acc= 7.8125%\n",
      "step 5000, training loss= nan, training acc= 6.25%\n",
      "step 6000, training loss= nan, training acc= 17.1875%\n",
      "step 7000, training loss= nan, training acc= 12.5%\n",
      "step 8000, training loss= nan, training acc= 15.625%\n",
      "step 9000, training loss= nan, training acc= 7.8125%\n",
      "Test acc= 9.8 %\n",
      "step 0, training loss= 1.1780269e+22, training acc= 18.75%\n",
      "step 1000, training loss= nan, training acc= 9.375%\n",
      "step 2000, training loss= nan, training acc= 7.8125%\n",
      "step 3000, training loss= nan, training acc= 10.9375%\n",
      "step 4000, training loss= nan, training acc= 18.75%\n",
      "step 5000, training loss= nan, training acc= 4.6875%\n",
      "step 6000, training loss= nan, training acc= 15.625%\n",
      "step 7000, training loss= nan, training acc= 14.0625%\n",
      "step 8000, training loss= nan, training acc= 4.6875%\n",
      "step 9000, training loss= nan, training acc= 9.375%\n",
      "Test acc= 9.8 %\n"
     ]
    },
    {
     "data": {
      "image/png": "[encoded data removed]",
      "text/plain": [
       "<Figure size 432x288 with 1 Axes>"
      ]
     },
     "metadata": {
      "needs_background": "light"
     },
     "output_type": "display_data"
    },
    {
     "data": {
      "image/png": "[encoded data removed]",
      "text/plain": [
       "<Figure size 432x288 with 1 Axes>"
      ]
     },
     "metadata": {
      "needs_background": "light"
     },
     "output_type": "display_data"
    },
    {
     "name": "stdout",
     "output_type": "stream",
     "text": [
      "When the learning rates are too, the values in the layers get too large and the derivatives unstable and so no learning is done. When the learning rate is small enough, the backpropagation is small enough that learning occurs.\n"
     ]
    }
   ],
   "source": [
    "rates = [10**x for x in range(-3,3)]\n",
    "training_accuracies = []\n",
    "testing_accuracies = []\n",
    "\n",
    "with tf.Session() as sess:\n",
    "\n",
    "    for rate in rates:\n",
    "\n",
    "        loss = tf.reduce_mean(tf.nn.softmax_cross_entropy_with_logits(logits=neural_net_3(X), labels=Y))\n",
    "        optimizer = tf.train.GradientDescentOptimizer(learning_rate=rate)\n",
    "        train_op = optimizer.minimize(loss)\n",
    "        correct_pred = tf.equal(tf.argmax(neural_net_3(X), 1), tf.argmax(Y, 1))\n",
    "        accuracy = tf.reduce_mean(tf.cast(correct_pred, tf.float32))\n",
    "\n",
    "        ### Initialization and running the model\n",
    "        sess.run(tf.global_variables_initializer())\n",
    "\n",
    "        for step in range(0, num_steps):\n",
    "            batch_x, batch_y = mnist.train.next_batch(batch_size)\n",
    "            sess.run(train_op, feed_dict={X: batch_x, Y: batch_y})\n",
    "            if step % 1000 == 0:\n",
    "                train_loss, train_acc = sess.run([loss, accuracy], feed_dict={X: batch_x,Y: batch_y})\n",
    "                print(\"step \" + str(step) + \", training loss= \" + str(train_loss) +\", training acc= \"+str(train_acc*100)+\"%\")\n",
    "\n",
    "        print(\"Test acc=\",str(sess.run(accuracy*100, feed_dict={X: mnist.test.images,Y: mnist.test.labels})), \"%\")\n",
    "\n",
    "        training_accuracies.append(train_acc*100)\n",
    "        testing_accuracies.append(sess.run(accuracy*100, feed_dict={X: mnist.test.images,Y: mnist.test.labels}))\n",
    "        \n",
    "plt.figure()\n",
    "plt.title('Training Accuracy vs. Learning Rate')\n",
    "plt.plot(rates, training_accuracies)\n",
    "plt.xscale('log')\n",
    "plt.show()\n",
    "\n",
    "plt.figure()\n",
    "plt.title('Testing Accuracy vs. Learning Rate')\n",
    "plt.plot(rates, testing_accuracies)\n",
    "plt.xscale('log')\n",
    "plt.show()\n",
    "\n",
    "print('When the learning rates are too, the values in the layers get too large and the derivatives unstable and so no learning is done. When the learning rate is small enough, the backpropagation is small enough that learning occurs.')"
   ]
  },
  {
   "cell_type": "markdown",
   "metadata": {},
   "source": [
    "### 3) Having fun with TensorFlow Playground:"
   ]
  },
  {
   "cell_type": "markdown",
   "metadata": {},
   "source": [
    "Please visit the following link:\n",
    "    http://playground.tensorflow.org/#activation=sigmoid&batchSize=10&dataset=circle&regDataset=regplane&learningRate=1&regularizationRate=0&noise=0&networkShape=&seed=0.93547&showTestData=false&discretize=false&percTrainData=50&x=true&y=false&xTimesY=false&xSquared=false&ySquared=false&cosX=false&sinX=false&cosY=false&sinY=false&collectStats=false&problem=classification&initZero=false&hideText=false\n",
    "        "
   ]
  },
  {
   "cell_type": "markdown",
   "metadata": {},
   "source": [
    "#### For the Circle DATASET:\n",
    "1) Pick the number of hidden layers to be zero. Set the learning rate to be 0.01. Leave all other parameters to their default values. Now, based on the distribution of data, can one single feature out of the available options classify all training data correctly? If so, explain which one and why? If you are only allowed to hand-pick one feature, which one would you pick?"
   ]
  },
  {
   "cell_type": "markdown",
   "metadata": {
    "collapsed": true
   },
   "source": [
    "**Answer**: One feature cannot classify all the data correctly because circles are parameterized by X_1^2 + X_2^2 < r^2 and so one needs at least two features to classify the data. Based on the data, one single feature cannot classify the data. If I was only allowed to pick one feature from the list it would either be X_1^2 or X_2^2. If I could craft one outside the list, it would be X_1^2 + X_2^2."
   ]
  },
  {
   "cell_type": "markdown",
   "metadata": {},
   "source": [
    "2) Now, select only the feature x1 (no other features should be selected). Set the learning rate to be 0.01 and train the network. Report the training and test loss? Repeat this for learning rate of 0.03, 0.1, 0.3, 1, 3 and 10, respectively, and explain what happens as you increase the learning rate."
   ]
  },
  {
   "cell_type": "markdown",
   "metadata": {
    "collapsed": true
   },
   "source": [
    "|Learning Rate|Training Loss|Testing Loss|\n",
    "|-------------|-------------|------------|\n",
    "|0.01|0.499|0.499|\n",
    "|0.03|0.499|0.498|\n",
    "|0.1|0.503|0.500|\n",
    "|0.3|0.574|0.548|\n",
    "|1|0.713|0.640|\n",
    "|3|0.737|0.655|\n",
    "|10|0.736|0.677|"
   ]
  },
  {
   "cell_type": "markdown",
   "metadata": {},
   "source": [
    "3) Pick only x1 feature. Now, add one hidden layer with two neurons. Set the learning rate to be 0.1 and Activation to be \"ReLU\". Train the network. What training/test loss can you achieve? Repeat this for \"Tanh\", \"Sigmoid\" and \"Linear\". Which activation performs the best? Which one performs the worst? why?"
   ]
  },
  {
   "cell_type": "markdown",
   "metadata": {
    "collapsed": true
   },
   "source": [
    "|Activation|Training Loss|Testing Loss|\n",
    "|-------------|-------------|------------|\n",
    "|ReLU|0.268|0.262|\n",
    "|Tanh|0.265|0.256|\n",
    "|Sigmoid|0.266|0.255|\n",
    "|Linear|0.499|0.500|"
   ]
  },
  {
   "cell_type": "markdown",
   "metadata": {},
   "source": [
    "4) Now, pick the activation to be \"sigmoid\" and train your network for more than 600 epochs. Report the final values of weights in the network. Then, pick the regularization to be \"L2\". Set the regularization rate to be \"0.1\". How does the training/test loss change? How about the final value of the learned weights? Repeat the same thing for \"L1\" regularizer and explain how the weights, training and test loss change."
   ]
  },
  {
   "cell_type": "markdown",
   "metadata": {
    "collapsed": true
   },
   "source": [
    "|Regularization|Training Loss|Testing Loss|Weights|\n",
    "|-------------|-------------|------------|--------|\n",
    "|None|0.266|0.256|Weights are 1 and 2 in first layer then 3.6 and -3.5 in second layer|\n",
    "|L2|0.501|0.500|Weights are very close to 0|\n",
    "|L1|0.501|0.500|Weights are 0|"
   ]
  },
  {
   "cell_type": "markdown",
   "metadata": {},
   "source": [
    "5) Pick only \"x1\" feature and set the activation to be \"sigmoid\". Set the \"Regularization\" to be \"None\". Now, increase the number of neurons in your hidden layer from 2 to 8. Does increasing the number of parameters (e.g., having more neurons) help with generalization? If so, how much improvement can you acheive?"
   ]
  },
  {
   "cell_type": "markdown",
   "metadata": {
    "collapsed": true
   },
   "source": [
    "**Answer**: With 8 neurons, the testing accuracy is 0.256 and training accuracy is 0.265. This does not improve generalization (testing accuracy) as compared to before."
   ]
  },
  {
   "cell_type": "markdown",
   "metadata": {},
   "source": [
    "6) Now, increase the number of hidden layers to two, each with 8 neurons. Report the training/test loss after convergence. Does this help with generalization?"
   ]
  },
  {
   "cell_type": "markdown",
   "metadata": {
    "collapsed": true
   },
   "source": [
    "**Answer**: After convergence, the testing accuracy is 0.256 and training accuracy is 0.265. This is exactly the same as we saw before."
   ]
  },
  {
   "cell_type": "markdown",
   "metadata": {},
   "source": [
    "7) Now you are free to choose any training setup you want (e.g., the network width and depth, learning rate, activation function, regularization, etc.) but your network cannot have more than 6 weights in total. Construct a network that can achieve 0 training loss. Explain your setup and copy the url of the network you constructed (just copy-past the url of web-page you are at)."
   ]
  },
  {
   "cell_type": "markdown",
   "metadata": {
    "collapsed": true
   },
   "source": [
    "https://playground.tensorflow.org/#activation=relu&batchSize=10&dataset=circle&regDataset=reg-plane&learningRate=0.1&regularizationRate=0.1&noise=0&networkShape=1&seed=0.56492&showTestData=false&discretize=false&percTrainData=50&x=false&y=false&xTimesY=false&xSquared=true&ySquared=true&cosX=false&sinX=false&cosY=false&sinY=false&collectStats=false&problem=classification&initZero=false&hideText=false\n",
    "\n",
    "**Answer**: The setup is simple, it requires X_1^2 and X_2^2 as features (as described before) with one hidden layer with one node with a ReLU activation to add some non linearity. It has a total of 3 weights and 1 bias."
   ]
  },
  {
   "cell_type": "markdown",
   "metadata": {},
   "source": [
    "#### For XOR, Gaussian and Spiral Datasets:\n"
   ]
  },
  {
   "cell_type": "markdown",
   "metadata": {},
   "source": [
    "8) Repeat part 7 for the XOR dataset when the total number of weights is less than or equal to 4."
   ]
  },
  {
   "cell_type": "markdown",
   "metadata": {
    "collapsed": true
   },
   "source": [
    "https://playground.tensorflow.org/#activation=relu&batchSize=10&dataset=xor&regDataset=reg-plane&learningRate=0.1&regularizationRate=0.1&noise=0&networkShape=1&seed=0.77619&showTestData=false&discretize=false&percTrainData=50&x=false&y=false&xTimesY=true&xSquared=false&ySquared=false&cosX=false&sinX=false&cosY=false&sinY=false&collectStats=false&problem=classification&initZero=false&hideText=false\n",
    "\n",
    "**Answer**: The setup is simple, it requires X_1*X_2 as a feature (as described before) with one hidden layer with one node with a ReLU activation to add some non linearity. It has a total of 2 weights and 1 bias."
   ]
  },
  {
   "cell_type": "markdown",
   "metadata": {},
   "source": [
    "9) Repeat part 7 for the Gaussian dataset when the total number of weights is less than or equal to 2."
   ]
  },
  {
   "cell_type": "markdown",
   "metadata": {
    "collapsed": true
   },
   "source": [
    "https://playground.tensorflow.org/#activation=relu&batchSize=10&dataset=gauss&regDataset=reg-plane&learningRate=0.1&regularizationRate=0.1&noise=0&networkShape=&seed=0.37141&showTestData=false&discretize=false&percTrainData=50&x=true&y=true&xTimesY=false&xSquared=false&ySquared=false&cosX=false&sinX=false&cosY=false&sinY=false&collectStats=false&problem=classification&initZero=false&hideText=false\n",
    "\n",
    "**Answer**: The setup requires no hidden layers and the features X_1 and X_2 because the data is linearly seperable. This requires a total of 2 weights and 0 biases."
   ]
  },
  {
   "cell_type": "markdown",
   "metadata": {},
   "source": [
    "10) Repeat part 7 for the Spiral dataset when the total number of weights is less than or equal to 48. Any training loss less than 0.005 is accepted."
   ]
  },
  {
   "cell_type": "markdown",
   "metadata": {
    "collapsed": true
   },
   "source": [
    "https://playground.tensorflow.org/#activation=tanh&batchSize=15&dataset=spiral&regDataset=reg-plane&learningRate=0.1&regularizationRate=0.1&noise=0&networkShape=8&seed=0.90322&showTestData=false&discretize=false&percTrainData=70&x=true&y=true&xTimesY=false&xSquared=true&ySquared=true&cosX=false&sinX=false&cosY=false&sinY=false&collectStats=false&problem=classification&initZero=false&hideText=false\n",
    "\n",
    "**Answer**: The setup is to use Tanh for activation. For the features, use X_1, X_2, X_1^2, and X_2^2. Then use one hidden layer with 8 nodes. This yields 4*8+8=40 weights and 8 biases. Use learning rate of 0.1. The training loss is 0.003."
   ]
  },
  {
   "cell_type": "code",
   "execution_count": null,
   "metadata": {},
   "outputs": [],
   "source": []
  }
 ],
 "metadata": {
  "kernelspec": {
   "display_name": "tensorflow",
   "language": "python",
   "name": "tensorflow"
  },
  "language_info": {
   "codemirror_mode": {
    "name": "ipython",
    "version": 3
   },
   "file_extension": ".py",
   "mimetype": "text/x-python",
   "name": "python",
   "nbconvert_exporter": "python",
   "pygments_lexer": "ipython3",
   "version": "3.6.3"
  }
 },
 "nbformat": 4,
 "nbformat_minor": 2
}
