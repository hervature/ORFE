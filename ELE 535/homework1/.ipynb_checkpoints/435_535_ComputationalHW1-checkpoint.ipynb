{
 "cells": [
  {
   "cell_type": "markdown",
   "metadata": {},
   "source": [
    "# ELE 435-535 Computational HW 1"
   ]
  },
  {
   "cell_type": "markdown",
   "metadata": {},
   "source": [
    "### Due: 9/24/2018 11:59 PM"
   ]
  },
  {
   "cell_type": "markdown",
   "metadata": {},
   "source": [
    "### Importing required Python packages"
   ]
  },
  {
   "cell_type": "code",
   "execution_count": 2,
   "metadata": {},
   "outputs": [],
   "source": [
    "# Import additional packages if needed.\n",
    "import numpy as np\n",
    "import matplotlib.pyplot as plt\n",
    "\n",
    "%matplotlib inline"
   ]
  },
  {
   "cell_type": "markdown",
   "metadata": {},
   "source": [
    "### Part 1: Getting started with Numpy "
   ]
  },
  {
   "cell_type": "markdown",
   "metadata": {},
   "source": [
    "1) Create a 5 x 5 array (A) with random values sampled from Gaussian distribution with zero mean and unit variance. Then print A. Suggestion: numpy has a built-in command for generating random arrays."
   ]
  },
  {
   "cell_type": "code",
   "execution_count": 3,
   "metadata": {},
   "outputs": [
    {
     "name": "stdout",
     "output_type": "stream",
     "text": [
      "[[ 0.88253636  0.05155901  0.12639785 -0.66448209 -0.21023162]\n",
      " [-0.27323092  1.95672824  0.33317255 -0.13470487 -1.97219362]\n",
      " [-2.22223827  1.30261906  0.90092732  0.11693141 -0.18720158]\n",
      " [-1.50756184 -0.39637912  0.32353717  0.52361969  0.36908537]\n",
      " [ 1.5111267   0.78967406  1.49487773  1.08824677  1.31208648]]\n"
     ]
    }
   ],
   "source": [
    "mu = 0\n",
    "sigma = 1\n",
    "A = np.random.normal(mu, sigma, (5,5))\n",
    "print(A)"
   ]
  },
  {
   "cell_type": "markdown",
   "metadata": {},
   "source": [
    "2) Set the element in the $2^{nd}$ row and $3^{rd}$ column of A to be 1 and print the result. Suggestion: check out how to index the elements of a numpy array."
   ]
  },
  {
   "cell_type": "code",
   "execution_count": 4,
   "metadata": {},
   "outputs": [
    {
     "name": "stdout",
     "output_type": "stream",
     "text": [
      "[[ 0.88253636  0.05155901  0.12639785 -0.66448209 -0.21023162]\n",
      " [-0.27323092  1.95672824  1.         -0.13470487 -1.97219362]\n",
      " [-2.22223827  1.30261906  0.90092732  0.11693141 -0.18720158]\n",
      " [-1.50756184 -0.39637912  0.32353717  0.52361969  0.36908537]\n",
      " [ 1.5111267   0.78967406  1.49487773  1.08824677  1.31208648]]\n"
     ]
    }
   ],
   "source": [
    "A[1,2] = 1\n",
    "print(A)"
   ]
  },
  {
   "cell_type": "markdown",
   "metadata": {},
   "source": [
    "3) Create a 5 x 5 identity array (B) and print it. Suggestion: numpy has a built in command for generating identity matrices."
   ]
  },
  {
   "cell_type": "code",
   "execution_count": 5,
   "metadata": {},
   "outputs": [
    {
     "name": "stdout",
     "output_type": "stream",
     "text": [
      "[[1. 0. 0. 0. 0.]\n",
      " [0. 1. 0. 0. 0.]\n",
      " [0. 0. 1. 0. 0.]\n",
      " [0. 0. 0. 1. 0.]\n",
      " [0. 0. 0. 0. 1.]]\n"
     ]
    }
   ],
   "source": [
    "B = np.eye(5)\n",
    "print(B)"
   ]
  },
  {
   "cell_type": "markdown",
   "metadata": {},
   "source": [
    "4) Set the values below the diagonal of B to be 1,2,3,4. Then, print the result. Suggestion: you can use a for loop."
   ]
  },
  {
   "cell_type": "code",
   "execution_count": 6,
   "metadata": {},
   "outputs": [
    {
     "name": "stdout",
     "output_type": "stream",
     "text": [
      "[[1. 0. 0. 0. 0.]\n",
      " [1. 1. 0. 0. 0.]\n",
      " [0. 2. 1. 0. 0.]\n",
      " [0. 0. 3. 1. 0.]\n",
      " [0. 0. 0. 4. 1.]]\n"
     ]
    }
   ],
   "source": [
    "for i in range(1,5):\n",
    "    B[i,i-1] = i\n",
    "    \n",
    "print(B)"
   ]
  },
  {
   "cell_type": "markdown",
   "metadata": {},
   "source": [
    "5) Multiply A and B (matrix multiplication, not point-wise multiplication) to create C (note that A and B are 2D arrays, not matrices). Suggestion: numpy hasd a built-in command for matrix multiplication."
   ]
  },
  {
   "cell_type": "code",
   "execution_count": 7,
   "metadata": {},
   "outputs": [
    {
     "name": "stdout",
     "output_type": "stream",
     "text": [
      "[[ 0.93409538  0.3043547  -1.86704843 -1.50540857 -0.21023162]\n",
      " [ 1.68349732  3.95672824  0.59588539 -8.02347936 -1.97219362]\n",
      " [-0.9196192   3.10447371  1.25172155 -0.63187491 -0.18720158]\n",
      " [-1.90394096  0.25069523  1.89439625  1.99996115  0.36908537]\n",
      " [ 2.30080077  3.77942953  4.75961804  6.3365927   1.31208648]]\n"
     ]
    }
   ],
   "source": [
    "C = np.matmul(A,B)\n",
    "print(C)"
   ]
  },
  {
   "cell_type": "markdown",
   "metadata": {},
   "source": [
    "6) Create a new array D according to the formula below:\n",
    "\\begin{equation}\n",
    "D = \\sum_{i=1}^5 A_i*B_i \\hspace{10mm} (A_i: i^{th} \\hspace{3mm} column \\hspace{3mm} of \\hspace{3mm} A, \\hspace{3mm} B_i: i^{th} \\hspace{3mm} row \\hspace{3mm} of \\hspace{3mm} B)   \\\\\n",
    "\\end{equation}"
   ]
  },
  {
   "cell_type": "code",
   "execution_count": 8,
   "metadata": {},
   "outputs": [
    {
     "name": "stdout",
     "output_type": "stream",
     "text": [
      "[[ 0.93409538  0.3043547  -1.86704843 -1.50540857 -0.21023162]\n",
      " [ 1.68349732  3.95672824  0.59588539 -8.02347936 -1.97219362]\n",
      " [-0.9196192   3.10447371  1.25172155 -0.63187491 -0.18720158]\n",
      " [-1.90394096  0.25069523  1.89439625  1.99996115  0.36908537]\n",
      " [ 2.30080077  3.77942953  4.75961804  6.3365927   1.31208648]]\n"
     ]
    }
   ],
   "source": [
    "D = np.zeros((5,5))\n",
    "\n",
    "for i in range(5):\n",
    "    D += np.outer(A[:,i], B[i,:])\n",
    "    \n",
    "print(D)"
   ]
  },
  {
   "cell_type": "markdown",
   "metadata": {},
   "source": [
    "7) Verify that C and D are equal. Suggestion: a==b checks equality."
   ]
  },
  {
   "cell_type": "code",
   "execution_count": 9,
   "metadata": {},
   "outputs": [
    {
     "data": {
      "text/plain": [
       "True"
      ]
     },
     "execution_count": 9,
     "metadata": {},
     "output_type": "execute_result"
    }
   ],
   "source": [
    "(C==D).all()"
   ]
  },
  {
   "cell_type": "markdown",
   "metadata": {},
   "source": [
    "### Part 2: Implementation of nearest class mean classifier"
   ]
  },
  {
   "cell_type": "markdown",
   "metadata": {},
   "source": [
    "In this part, you will implement nearest class mean classifier using the MNIST dataset for handwritten digits. These are 28 x 28  2D grayscale images of hand written digits. When you load the given file MNISTcwtrain1000.npy, you will get a 784 x 10000 numpy array, which you are to use as the training samples and another 784 x 1000 array (from MNISTcwtest100.npy) which is to be used as test samples. You can find more information on http://yann.lecun.com/exdb/mnist/.\n",
    "\n",
    "Each column in the training and test arrays are 784-pixel (784 = 28 * 28) column-wise vectorized images of handwritten digits (digits 0~9). For the training array, the first 1000 columns are column-wise vectorized images of the digit 0, the next 1000 columns are images of digit 1, and so on up to the last 1000 columns which are images of digit 9. Similarly, for the test array, the first 100 columns are vectorized images of digit 0, the next 100 columns correspond to digit 1, etc."
   ]
  },
  {
   "cell_type": "markdown",
   "metadata": {},
   "source": [
    "1) Load the MNISTcwtrain1000.npy (training examples) and MNISTcwtest100.npy (test examples). Cast the resulting arrays to 'uint8 (unsigned integers of 8-bits)' format."
   ]
  },
  {
   "cell_type": "code",
   "execution_count": 47,
   "metadata": {},
   "outputs": [],
   "source": [
    "train = np.load(\"./MNISTcwtrain1000.npy\").astype(\"uint8\")\n",
    "test = np.load(\"./MNISTcwtest100.npy\").astype(\"uint8\")"
   ]
  },
  {
   "cell_type": "markdown",
   "metadata": {},
   "source": [
    "2) Print the dimensions of training data and test data."
   ]
  },
  {
   "cell_type": "code",
   "execution_count": 48,
   "metadata": {},
   "outputs": [
    {
     "name": "stdout",
     "output_type": "stream",
     "text": [
      "(784, 10000)\n",
      "(784, 1000)\n"
     ]
    }
   ],
   "source": [
    "print(train.shape)\n",
    "print(test.shape)"
   ]
  },
  {
   "cell_type": "markdown",
   "metadata": {},
   "source": [
    "3) Compute the mean vector of each digit of training examples (mean of the first 1000 columns of training examples corresponds to digit 0, mean of the next 1000 columns corresponds to digit 1, etc.)"
   ]
  },
  {
   "cell_type": "code",
   "execution_count": 49,
   "metadata": {},
   "outputs": [
    {
     "name": "stdout",
     "output_type": "stream",
     "text": [
      "(784, 1000)\n",
      "(784, 1000)\n",
      "(784, 1000)\n",
      "(784, 1000)\n",
      "(784, 1000)\n",
      "(784, 1000)\n",
      "(784, 1000)\n",
      "(784, 1000)\n",
      "(784, 1000)\n",
      "(784, 1000)\n"
     ]
    }
   ],
   "source": [
    "mean = np.zeros((10, 784))\n",
    "\n",
    "for i in range(10):\n",
    "    print(train[:, i*1000:(i+1)*1000].shape)\n",
    "    mean[i,:] = np.mean(train[:, i*1000:(i+1)*1000], axis=1)\n",
    "                        "
   ]
  },
  {
   "cell_type": "markdown",
   "metadata": {},
   "source": [
    "4) Using the function below, convert the mean-vector of each digit (computed from part (3)) into a 28 x 28, 2D-array and plot the corresponding two dimensional images (using 'imshow').  "
   ]
  },
  {
   "cell_type": "code",
   "execution_count": 53,
   "metadata": {},
   "outputs": [],
   "source": [
    "# Function that converts a 1D vectorized image into a (nr x nc) 2D array\n",
    "def unpackcw(x,nr,nc):\n",
    "    A = x.reshape(nc,nr)\n",
    "    return A.T"
   ]
  },
  {
   "cell_type": "code",
   "execution_count": 57,
   "metadata": {},
   "outputs": [
    {
     "data": {
      "image/png": "[encoded data removed]",
      "text/plain": [
       "<Figure size 432x288 with 10 Axes>"
      ]
     },
     "metadata": {
      "needs_background": "light"
     },
     "output_type": "display_data"
    }
   ],
   "source": [
    "digit = np.zeros((10,28,28))\n",
    "\n",
    "for i in range(10):\n",
    "    digit[i,:,:] = unpackcw(mean[i,:], 28, 28)\n",
    "    plt.subplot(4,4,i+1)\n",
    "    plt.imshow(digit[i,:,:])\n"
   ]
  },
  {
   "cell_type": "markdown",
   "metadata": {},
   "source": [
    "5) Using vector-means from part (3), implement the nearest class mean classifier. What are the training and test accuracies?"
   ]
  },
  {
   "cell_type": "code",
   "execution_count": 63,
   "metadata": {},
   "outputs": [
    {
     "name": "stdout",
     "output_type": "stream",
     "text": [
      "training accuracy: 0.8038\n",
      "test accuracy: 0.372\n"
     ]
    }
   ],
   "source": [
    "# training accuracy\n",
    "num_cases = 10000\n",
    "num_correct = 0\n",
    "\n",
    "for i in range(num_cases):\n",
    "    closest_index = 0\n",
    "    closest_dist = np.linalg.norm(mean[0,:] - train[:,i])\n",
    "    \n",
    "    for j in range(1, 10):\n",
    "        if np.linalg.norm(mean[j,:] - train[:,i]) < closest_dist:\n",
    "            closest_index = j\n",
    "            closest_dist = np.linalg.norm(mean[j,:] - train[:,i])\n",
    "            \n",
    "    if closest_index == i // 1000:\n",
    "        num_correct += 1\n",
    "        \n",
    "train_accuracy = num_correct/num_cases\n",
    "print(\"training accuracy: \" + str(train_accuracy))\n",
    "\n",
    "# test accuracy\n",
    "num_cases = 1000\n",
    "num_correct = 0\n",
    "\n",
    "for i in range(num_cases):\n",
    "    closest_index = 0\n",
    "    closest_dist = np.linalg.norm(mean[0,:] - test[:,i])\n",
    "    \n",
    "    for j in range(1, 10):\n",
    "        if np.linalg.norm(mean[j,:] - train[:,i]) < closest_dist:\n",
    "            closest_index = j\n",
    "            closest_dist = np.linalg.norm(mean[j,:] - test[:,i])\n",
    "            \n",
    "    if closest_index == i // 1000:\n",
    "        num_correct += 1\n",
    "        \n",
    "test_accuracy = num_correct/num_cases\n",
    "print(\"test accuracy: \" + str(test_accuracy))"
   ]
  },
  {
   "cell_type": "code",
   "execution_count": null,
   "metadata": {},
   "outputs": [],
   "source": []
  }
 ],
 "metadata": {
  "anaconda-cloud": {},
  "kernelspec": {
   "display_name": "Python 3",
   "language": "python",
   "name": "python3"
  },
  "language_info": {
   "codemirror_mode": {
    "name": "ipython",
    "version": 3
   },
   "file_extension": ".py",
   "mimetype": "text/x-python",
   "name": "python",
   "nbconvert_exporter": "python",
   "pygments_lexer": "ipython3",
   "version": "3.7.0"
  }
 },
 "nbformat": 4,
 "nbformat_minor": 1
}
