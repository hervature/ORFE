{
 "cells": [
  {
   "cell_type": "code",
   "execution_count": 1,
   "metadata": {},
   "outputs": [
    {
     "name": "stdout",
     "output_type": "stream",
     "text": [
      "Final n_stop: 1000000000000000000\n",
      "Final value of e: 1.0\n",
      "Intermediate values:\n",
      "[2.0, 2.704813829422, 2.718145926825, 2.718280469096, 2.718281798347, 2.718282053235, 2.718523496037, 2.716110034087, 1.0, 1.0]\n"
     ]
    }
   ],
   "source": [
    "# Question 5\n",
    "\n",
    "def round_sigs(x, n):\n",
    "    string = '{:.'+str(n)+'e}'\n",
    "    return float(string.format(x))\n",
    "\n",
    "n = 1\n",
    "\n",
    "old_e = 2\n",
    "e = 0\n",
    "count = 0\n",
    "values = [round_sigs(2, 12)]\n",
    "\n",
    "while(round_sigs(old_e, 12) != round_sigs(e, 12)):\n",
    "    \n",
    "    n *= 100\n",
    "    old_e = e\n",
    "    e = (1+1/n)**n\n",
    "    values.append(round_sigs(e, 12))\n",
    "    count += 1\n",
    "    \n",
    "print('Final n_stop: ' + str(100**count))\n",
    "print('Final value of e: ' + str(round_sigs(e, 12)))\n",
    "print('Intermediate values:')\n",
    "print(values)"
   ]
  },
  {
   "cell_type": "code",
   "execution_count": null,
   "metadata": {},
   "outputs": [],
   "source": []
  }
 ],
 "metadata": {
  "kernelspec": {
   "display_name": "Python 3",
   "language": "python",
   "name": "python3"
  },
  "language_info": {
   "codemirror_mode": {
    "name": "ipython",
    "version": 3
   },
   "file_extension": ".py",
   "mimetype": "text/x-python",
   "name": "python",
   "nbconvert_exporter": "python",
   "pygments_lexer": "ipython3",
   "version": "3.6.7"
  }
 },
 "nbformat": 4,
 "nbformat_minor": 2
}
