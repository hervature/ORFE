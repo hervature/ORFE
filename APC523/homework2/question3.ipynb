{
 "cells": [
  {
   "cell_type": "code",
   "execution_count": 1,
   "metadata": {},
   "outputs": [],
   "source": [
    "import numpy as np\n",
    "from scipy.fftpack import dct\n",
    "\n",
    "# Part a\n",
    "\n",
    "def chebcoeffs(f):\n",
    "    coeffs = dct(f, type=1)\n",
    "    coeffs[[0,-1]] = coeffs[[0,-1]]/2\n",
    "    return coeffs/(len(f)-1)\n"
   ]
  },
  {
   "cell_type": "code",
   "execution_count": 2,
   "metadata": {},
   "outputs": [
    {
     "name": "stdout",
     "output_type": "stream",
     "text": [
      "Coefficients are:[5. 4. 5. 1. 1.]\n"
     ]
    }
   ],
   "source": [
    "# Part b  ii\n",
    "\n",
    "def chebnodes(n):\n",
    "    return np.array([np.cos(j/n*np.pi) for j in range(n+1)])\n",
    "\n",
    "nodes = chebnodes(4)\n",
    "f = 8*nodes**4 + 4*nodes**3 + 2*nodes**2 + nodes + 1\n",
    "print('Coefficients are:' + str(chebcoeffs(f)))"
   ]
  },
  {
   "cell_type": "code",
   "execution_count": 4,
   "metadata": {},
   "outputs": [
    {
     "name": "stdout",
     "output_type": "stream",
     "text": [
      "time it took: 0.00035262107849121094\n",
      "time it took: 0.06021928787231445\n",
      "time it took: 0.00036072731018066406\n",
      "time it took: 15.416285037994385\n",
      "time it took: 0.006688833236694336\n"
     ]
    },
    {
     "data": {
      "image/png": "[encoded data removed]",
      "text/plain": [
       "<Figure size 432x288 with 1 Axes>"
      ]
     },
     "metadata": {
      "needs_background": "light"
     },
     "output_type": "display_data"
    }
   ],
   "source": [
    "import matplotlib.pyplot as plt\n",
    "import time\n",
    "\n",
    "# Part c\n",
    "\n",
    "nodes = chebnodes(2**10-1)\n",
    "f = np.exp(-nodes**2)\n",
    "start = time.time()\n",
    "nodes = chebcoeffs(f)\n",
    "end = time.time()\n",
    "print('time it took: ' + str(end - start))\n",
    "\n",
    "nodes = chebnodes(2**13-1)\n",
    "f = np.exp(-nodes**2)\n",
    "start = time.time()\n",
    "nodes = chebcoeffs(f)\n",
    "end = time.time()\n",
    "print('time it took: ' + str(end - start))\n",
    "\n",
    "nodes = chebnodes(2**13)\n",
    "f = np.exp(-nodes**2)\n",
    "start = time.time()\n",
    "nodes = chebcoeffs(f)\n",
    "end = time.time()\n",
    "print('time it took: ' + str(end - start))\n",
    "\n",
    "nodes = chebnodes(2**17-1)\n",
    "f = np.exp(-nodes**2)\n",
    "start = time.time()\n",
    "nodes = chebcoeffs(f)\n",
    "end = time.time()\n",
    "print('time it took: ' + str(end - start))\n",
    "\n",
    "nodes = chebnodes(2**17)\n",
    "f = np.exp(-nodes**2)\n",
    "start = time.time()\n",
    "nodes = chebcoeffs(f)\n",
    "end = time.time()\n",
    "print('time it took: ' + str(end - start))\n",
    "\n",
    "times = []\n",
    "x = []\n",
    "for k in range(10,25,2):\n",
    "    x.append(2**k)\n",
    "    nodes = chebnodes(2**k)\n",
    "    f = np.exp(-nodes**2)\n",
    "    start = time.time()\n",
    "    nodes = chebcoeffs(f)\n",
    "    end = time.time()\n",
    "    times.append(end-start)\n",
    "    \n",
    "plt.plot(x, times, linestyle='None',marker='.')\n",
    "# Plot lines to show convergence rate comparison\n",
    "x = np.array(x)\n",
    "plt.plot(x, x/2**26)\n",
    "plt.plot(x, x**2/2**36)\n",
    "plt.title('Time to Calcualte Coefficients')\n",
    "plt.xlabel('Number of Nodes')\n",
    "plt.ylabel('Time (s)')\n",
    "plt.xscale('log')\n",
    "plt.yscale('log')\n",
    "plt.show()"
   ]
  },
  {
   "cell_type": "code",
   "execution_count": null,
   "metadata": {},
   "outputs": [],
   "source": []
  }
 ],
 "metadata": {
  "kernelspec": {
   "display_name": "Python 3",
   "language": "python",
   "name": "python3"
  },
  "language_info": {
   "codemirror_mode": {
    "name": "ipython",
    "version": 3
   },
   "file_extension": ".py",
   "mimetype": "text/x-python",
   "name": "python",
   "nbconvert_exporter": "python",
   "pygments_lexer": "ipython3",
   "version": "3.7.3"
  }
 },
 "nbformat": 4,
 "nbformat_minor": 2
}
