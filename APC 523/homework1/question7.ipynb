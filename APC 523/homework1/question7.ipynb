{
 "cells": [
  {
   "cell_type": "code",
   "execution_count": 1,
   "metadata": {},
   "outputs": [
    {
     "name": "stdout",
     "output_type": "stream",
     "text": [
      "2432902008176640000\n",
      "-8752948036761600000\n",
      "13803759753640704000\n",
      "-12870931245150988288\n",
      "8037811822645052416\n",
      "-3599979517947607040\n",
      "1206647803780373248\n",
      "-311333643161390656\n",
      "63030812099294896\n",
      "-10142299865511450\n",
      "1307535010540395\n",
      "-135585182899530\n",
      "11310276995381\n",
      "-756111184500\n",
      "40171771630\n",
      "-1672280820\n",
      "53327946\n",
      "-1256850\n",
      "20615\n",
      "-210\n",
      "1\n"
     ]
    }
   ],
   "source": [
    "#  Question 7\n",
    "\n",
    "#  a - Wilkinson's Polynomial coefficients\n",
    "\n",
    "import numpy.polynomial.polynomial as poly\n",
    "import numpy as np\n",
    "\n",
    "f = poly.Polynomial(1)\n",
    "\n",
    "for i in range(1, 21):\n",
    "    f *= poly.Polynomial((-i, 1))\n",
    "    \n",
    "# Note these start with the smallest powers of x\n",
    "for c in f.coef:\n",
    "    print(int(c))"
   ]
  },
  {
   "cell_type": "code",
   "execution_count": 2,
   "metadata": {},
   "outputs": [
    {
     "name": "stdout",
     "output_type": "stream",
     "text": [
      "Newton-Raphson starting at 21:\n",
      "19.999995981138753\n",
      "Numpy's implementation:\n",
      "[ 1.        +0.j          2.        +0.j          2.99999999+0.j\n",
      "  4.0000002 +0.j          4.9999963 +0.j          6.0000482 +0.j\n",
      "  6.99956009+0.j          8.00287806+0.j          8.98673525+0.j\n",
      " 10.04985911+0.j         10.88618474+0.j         12.35783538+0.j\n",
      " 12.56199912+0.j         14.51893762-0.21308755j 14.51893762+0.21308755j\n",
      " 16.20675028+0.j         16.8857393 +0.j         18.03009401+0.j\n",
      " 18.99390267+0.j         20.00054206+0.j        ]\n"
     ]
    }
   ],
   "source": [
    "# b - Find roots\n",
    "\n",
    "import scipy.optimize\n",
    "\n",
    "print('Newton-Raphson starting at 21:')\n",
    "print(scipy.optimize.newton(f, 21))\n",
    "\n",
    "print('Numpy\\'s implementation:')\n",
    "print(f.roots())"
   ]
  },
  {
   "cell_type": "code",
   "execution_count": 3,
   "metadata": {},
   "outputs": [
    {
     "name": "stdout",
     "output_type": "stream",
     "text": [
      "Delta = 1e-08\n",
      "Newton-Raphson starting at 21:\n",
      "9.585097719672847\n",
      "Numpy's implementation:\n",
      "[ 1.        +0.j          2.        +0.j          3.        +0.j\n",
      "  3.99999993+0.j          5.00000167+0.j          5.99997626+0.j\n",
      "  7.00033047+0.j          7.99455793+0.j          9.10180119+0.j\n",
      "  9.58140435+0.j         10.88054718-1.10962138j 10.88054718+1.10962138j\n",
      " 12.75247322-2.1276999j  12.75247322+2.1276999j  15.20890593-2.8799427j\n",
      " 15.20890593+2.8799427j  18.17150122-2.76904678j 18.17150122+2.76904678j\n",
      " 20.6475355 -1.18691242j 20.6475355 +1.18691242j]\n",
      "Delta = 1e-06\n",
      "Newton-Raphson starting at 21:\n",
      "7.752698116492445\n",
      "Numpy's implementation:\n",
      "[ 1.        +0.j          2.        +0.j          3.00000001+0.j\n",
      "  3.99999979+0.j          5.0000061 +0.j          5.99962248+0.j\n",
      "  7.01928406+0.j          7.75217851+0.j          8.6417379 -1.0075369j\n",
      "  8.6417379 +1.0075369j   9.99509892-2.28806974j  9.99509892+2.28806974j\n",
      " 11.86552541-3.7475366j  11.86552541+3.7475366j  14.65897489-5.1502364j\n",
      " 14.65897489+5.1502364j  18.8039955 -5.53148348j 18.8039955 +5.53148348j\n",
      " 23.1490169 -2.7409845j  23.1490169 +2.7409845j ]\n",
      "Delta = 0.0001\n",
      "Newton-Raphson starting at 21:\n",
      "5.969334704221419\n",
      "Numpy's implementation:\n",
      "[ 1.         +0.j          2.         +0.j\n",
      "  3.         +0.j          3.9999992  +0.j\n",
      "  5.00030297 +0.j          5.96934721 +0.j\n",
      "  6.81227031 -0.59000689j  6.81227031 +0.59000689j\n",
      "  7.70572566 -1.80906046j  7.70572566 +1.80906046j\n",
      "  8.84585096 -3.35922838j  8.84585096 +3.35922838j\n",
      " 10.49578215 -5.35388913j 10.49578215 +5.35388913j\n",
      " 13.31450056 -7.85161055j 13.31450056 +7.85161055j\n",
      " 18.93033431-10.07295983j 18.93033431+10.07295983j\n",
      " 28.40021241 -6.51043422j 28.40021241 +6.51043422j]\n",
      "Delta = 0.01\n",
      "Newton-Raphson starting at 21:\n",
      "5.469592828289074\n",
      "Numpy's implementation:\n",
      "[ 1.         +0.j          2.         +0.j\n",
      "  3.00000004 +0.j          3.99991269 +0.j\n",
      "  5.03691842 +0.j          5.46959692 +0.j\n",
      "  5.98137621 -1.11660899j  5.98137621 +1.11660899j\n",
      "  6.64729367 -2.43830385j  6.64729367 +2.43830385j\n",
      "  7.44596883 -4.19140464j  7.44596883 +4.19140464j\n",
      "  8.56227534 -6.65957602j  8.56227534 +6.65957602j\n",
      " 10.5819106 -10.4503631j  10.5819106 +10.4503631j\n",
      " 16.01017374-16.82880772j 16.01017374+16.82880772j\n",
      " 38.47818362-20.83432359j 38.47818362+20.83432359j]\n"
     ]
    }
   ],
   "source": [
    "# c - change coefficient\n",
    "\n",
    "deltas = [10**-8, 10**-6, 10**-4, 10**-2]\n",
    "\n",
    "for delta in deltas:\n",
    "    \n",
    "    print('Delta = ' + str(delta))\n",
    "    f.coef[20] = 1 + delta\n",
    "    \n",
    "    print('Newton-Raphson starting at 21:')\n",
    "    print(scipy.optimize.newton(f, 21, maxiter=100))\n",
    "\n",
    "    print('Numpy\\'s implementation:')\n",
    "    print(f.roots())"
   ]
  },
  {
   "cell_type": "code",
   "execution_count": 4,
   "metadata": {},
   "outputs": [
    {
     "name": "stdout",
     "output_type": "stream",
     "text": [
      "Numpy's implementation:\n",
      "[ 1.        +0.j          2.        +0.j          3.        +0.j\n",
      "  4.        +0.j          5.00000001+0.j          6.00000747+0.j\n",
      "  6.99966203+0.j          8.0077659 +0.j          8.91462159+0.j\n",
      " 10.09442575-0.64843329j 10.09442575+0.64843329j 11.79460219-1.65426481j\n",
      " 11.79460219+1.65426481j 13.99301795-2.51922167j 13.99301795+2.51922167j\n",
      " 16.73096403-2.81265595j 16.73096403+2.81265595j 19.50249798-1.94032951j\n",
      " 19.50249798+1.94032951j 20.8469273 +0.j        ]\n"
     ]
    }
   ],
   "source": [
    "# d - change another coefficient\n",
    "\n",
    "f.coef[20] = 1\n",
    "f.coef[19] = -210-2**-23\n",
    "\n",
    "print('Numpy\\'s implementation:')\n",
    "print(f.roots())"
   ]
  },
  {
   "cell_type": "code",
   "execution_count": 5,
   "metadata": {},
   "outputs": [
    {
     "name": "stdout",
     "output_type": "stream",
     "text": [
      "Condition number for root 14 is: 7.193916e+13\n",
      "Condition number for root 16 is: 3.044400e+13\n",
      "Condition number for root 17 is: 2.593885e+13\n",
      "Condition number for root 20 is: 1.373204e+11\n"
     ]
    }
   ],
   "source": [
    "# e ii - condition number\n",
    "\n",
    "f = poly.Polynomial(1)\n",
    "\n",
    "for i in range(1, 21):\n",
    "    f *= poly.Polynomial((-i, 1))\n",
    "    \n",
    "f_prime = f.deriv()\n",
    "\n",
    "for k in [14,16,17,20]:\n",
    "    cond = 0\n",
    "    for i in range(20):\n",
    "        root = f.roots()[k-1]\n",
    "        num = np.absolute(f.coef[i]*root**i)\n",
    "        den = np.absolute(root * f_prime(root))\n",
    "        cond += num/den\n",
    "        \n",
    "    print('Condition number for root ' + str(k) + ' is: ' + '{:.6e}'.format(cond))"
   ]
  },
  {
   "cell_type": "code",
   "execution_count": null,
   "metadata": {},
   "outputs": [],
   "source": []
  }
 ],
 "metadata": {
  "kernelspec": {
   "display_name": "Python 3",
   "language": "python",
   "name": "python3"
  },
  "language_info": {
   "codemirror_mode": {
    "name": "ipython",
    "version": 3
   },
   "file_extension": ".py",
   "mimetype": "text/x-python",
   "name": "python",
   "nbconvert_exporter": "python",
   "pygments_lexer": "ipython3",
   "version": "3.6.7"
  }
 },
 "nbformat": 4,
 "nbformat_minor": 2
}
