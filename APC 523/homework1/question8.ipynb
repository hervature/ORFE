{
 "cells": [
  {
   "cell_type": "code",
   "execution_count": 1,
   "metadata": {},
   "outputs": [],
   "source": [
    "# Question 8 part c\n",
    "\n",
    "import numpy as np\n",
    "import math\n",
    "\n",
    "eps = np.finfo(float).eps\n",
    "k = 20\n",
    "N = 32 # Calculated using Wolfram"
   ]
  },
  {
   "cell_type": "code",
   "execution_count": 2,
   "metadata": {},
   "outputs": [
    {
     "name": "stdout",
     "output_type": "stream",
     "text": [
      "0.12380383076256993\n",
      "Wolfram Answer:\n",
      "0.12380383076256996\n",
      "True\n"
     ]
    }
   ],
   "source": [
    "#  part d - backward recurrence\n",
    "\n",
    "y_i = 0\n",
    "\n",
    "for i in range(N, 19, -1):\n",
    "    y_i = (math.exp(1) - y_i)/(i+1)\n",
    "    \n",
    "print(y_i)\n",
    "print('Wolfram Answer:')\n",
    "wolf = 0.1238038307625699486913961699582224511997853081417963755\n",
    "print(wolf)\n",
    "\n",
    "print(abs(y_i - wolf) < eps)"
   ]
  },
  {
   "cell_type": "code",
   "execution_count": 3,
   "metadata": {},
   "outputs": [
    {
     "name": "stdout",
     "output_type": "stream",
     "text": [
      "2.220446049250313e-16\n"
     ]
    }
   ],
   "source": [
    "print(eps)"
   ]
  },
  {
   "cell_type": "code",
   "execution_count": null,
   "metadata": {},
   "outputs": [],
   "source": []
  }
 ],
 "metadata": {
  "kernelspec": {
   "display_name": "Python 3",
   "language": "python",
   "name": "python3"
  },
  "language_info": {
   "codemirror_mode": {
    "name": "ipython",
    "version": 3
   },
   "file_extension": ".py",
   "mimetype": "text/x-python",
   "name": "python",
   "nbconvert_exporter": "python",
   "pygments_lexer": "ipython3",
   "version": "3.6.7"
  }
 },
 "nbformat": 4,
 "nbformat_minor": 2
}
