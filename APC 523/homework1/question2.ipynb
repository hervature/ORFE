{
 "cells": [
  {
   "cell_type": "code",
   "execution_count": 1,
   "metadata": {},
   "outputs": [
    {
     "name": "stdout",
     "output_type": "stream",
     "text": [
      "Numerator terms:\n",
      "['1.0000e+00', '5.5000e+00', '3.0250e+01', '1.6638e+02', '9.1509e+02', '5.0330e+03', '2.7682e+04', '1.5225e+05', '8.3738e+05', '4.6056e+06', '2.5331e+07', '1.3932e+08', '7.6626e+08', '4.2144e+09', '2.3179e+10', '1.2748e+11', '7.0114e+11', '3.8563e+12', '2.1210e+13', '1.1666e+14', '6.4163e+14', '3.5290e+15', '1.9410e+16', '1.0676e+17', '5.8718e+17', '3.2295e+18', '1.7762e+19', '9.7691e+19', '5.3730e+20', '2.9551e+21', '1.6253e+22']\n",
      "Denominator terms:\n",
      "['1.0000e+00', '1.0000e+00', '2.0000e+00', '6.0000e+00', '2.4000e+01', '1.2000e+02', '7.2000e+02', '5.0400e+03', '4.0320e+04', '3.6288e+05', '3.6288e+06', '3.9917e+07', '4.7900e+08', '6.2270e+09', '8.7178e+10', '1.3077e+12', '2.0923e+13', '3.5569e+14', '6.4024e+15', '1.2165e+17', '2.4330e+18', '5.1093e+19', '1.1240e+21', '2.5852e+22', '6.2045e+23', '1.5511e+25', '4.0329e+26', '1.0889e+28', '3.0489e+29', '8.8418e+30', '2.6525e+32']\n",
      "Complete terms:\n",
      "['1.0000e+00', '5.5000e+00', '1.5125e+01', '2.7730e+01', '3.8129e+01', '4.1942e+01', '3.8447e+01', '3.0208e+01', '2.0768e+01', '1.2692e+01', '6.9805e+00', '3.4902e+00', '1.5997e+00', '6.7679e-01', '2.6588e-01', '9.7484e-02', '3.3510e-02', '1.0842e-02', '3.3128e-03', '9.5898e-04', '2.6372e-04', '6.9070e-05', '1.7269e-05', '4.1297e-06', '9.4638e-07', '2.0821e-07', '4.4043e-08', '8.9715e-09', '1.7623e-09', '3.3422e-10', '6.1274e-11']\n"
     ]
    }
   ],
   "source": [
    "#  Question 2\n",
    "import math\n",
    "\n",
    "def num_digits(n):\n",
    "    if n < 0:\n",
    "        n = -n\n",
    "    \n",
    "    if n >= 1:\n",
    "        digits = int(math.log10(n))+1\n",
    "    else:\n",
    "        digits = int(math.log10(n))\n",
    "    return digits\n",
    "\n",
    "def round_five_sigs(x):\n",
    "    x = '{:.4e}'.format(x)\n",
    "    x = float(x)\n",
    "    return x\n",
    "\n",
    "# First 31 terms of Taylor series\n",
    "\n",
    "# a - numerator and denominator different then divide\n",
    "\n",
    "numerator = ['{:.4e}'.format(1)]\n",
    "exp = 5.5\n",
    "res = 1\n",
    "\n",
    "for i in range(30):\n",
    "    res *= exp\n",
    "    res = round_five_sigs(res)\n",
    "    numerator.append('{:.4e}'.format(res))\n",
    "\n",
    "print('Numerator terms:')\n",
    "print(numerator)\n",
    "\n",
    "denominator = ['{:.4e}'.format(1)]\n",
    "res = 1\n",
    "\n",
    "for i in range(1, 31):\n",
    "    res *= i\n",
    "    res = round_five_sigs(res)\n",
    "    denominator.append('{:.4e}'.format(res))\n",
    "\n",
    "print('Denominator terms:')\n",
    "print(denominator)\n",
    "\n",
    "# num/denom\n",
    "\n",
    "term = ['{:.4e}'.format(1)]\n",
    "power = 0\n",
    "\n",
    "for i in range(1, 31):\n",
    "    res = float(numerator[i][0:6])/float(denominator[i][0:6])\n",
    "    power = int(numerator[i][-3:]) - int(denominator[i][-3:])\n",
    "    res = round_five_sigs(res) * math.pow(10, power)\n",
    "    term.append('{:.4e}'.format(res))\n",
    "\n",
    "print('Complete terms:')\n",
    "print(term)"
   ]
  },
  {
   "cell_type": "code",
   "execution_count": 2,
   "metadata": {},
   "outputs": [
    {
     "name": "stdout",
     "output_type": "stream",
     "text": [
      "The loop broke on k: 18\n",
      "Value was: 2.4471e+02\n",
      "Relative error is: 7.383870654188337e-05\n"
     ]
    }
   ],
   "source": [
    "# b - Partial sums left to right\n",
    "\n",
    "old_partial = None\n",
    "partial = 0\n",
    "\n",
    "for i in range(31):\n",
    "    old_partial = partial\n",
    "    partial += float(term[i][0:6]) * math.pow(10, int(term[i][-3:]))\n",
    "    partial = round_five_sigs(partial)\n",
    "    \n",
    "    if old_partial == partial:\n",
    "        res = i\n",
    "        break\n",
    "        \n",
    "print('The loop broke on k: ' + str(i))\n",
    "print('Value was: ' + '{:.4e}'.format(partial))\n",
    "\n",
    "# Error\n",
    "\n",
    "print('Relative error is: ' + str(abs((math.exp(5.5)-partial)/math.exp(5.5))))"
   ]
  },
  {
   "cell_type": "code",
   "execution_count": 3,
   "metadata": {},
   "outputs": [
    {
     "name": "stdout",
     "output_type": "stream",
     "text": [
      "The loop broke on k: 17\n",
      "Value was: 2.4469e+02\n",
      "Relative error is: 7.896722227439787e-06\n"
     ]
    }
   ],
   "source": [
    "# c - Partial sums right to left\n",
    "\n",
    "old_partial = None\n",
    "\n",
    "for k in range(31):\n",
    "    partial = 0\n",
    "    \n",
    "    for i in range(k, -1, -1):\n",
    "        partial += float(term[i][0:6]) * math.pow(10, int(term[i][-3:]))\n",
    "        partial = round_five_sigs(partial)\n",
    "\n",
    "    if old_partial == partial:\n",
    "        res = i\n",
    "        break\n",
    "        \n",
    "    old_partial = partial\n",
    "        \n",
    "print('The loop broke on k: ' + str(k))\n",
    "print('Value was: ' + '{:.4e}'.format(partial))\n",
    "\n",
    "# Error\n",
    "\n",
    "print('Relative error is: ' + str(abs((math.exp(5.5)-partial)/math.exp(5.5))))"
   ]
  },
  {
   "cell_type": "code",
   "execution_count": 4,
   "metadata": {},
   "outputs": [
    {
     "name": "stdout",
     "output_type": "stream",
     "text": [
      "The loop broke on k: 26\n",
      "Value was: 3.8363e-03\n",
      "Relative error is: 0.06128834025477125\n"
     ]
    }
   ],
   "source": [
    "# d exp(-5.5)\n",
    "\n",
    "#  No need to recalclate, just make odd index terms negative\n",
    "\n",
    "#  i) add left to right\n",
    "\n",
    "old_partial = None\n",
    "partial = 0\n",
    "\n",
    "for i in range(31):\n",
    "    old_partial = partial\n",
    "    partial += float(term[i][0:6]) * math.pow(10, int(term[i][-3:])) * math.pow(-1, i)\n",
    "    partial = round_five_sigs(partial)\n",
    "       \n",
    "    if old_partial == partial:\n",
    "        res = i\n",
    "        break\n",
    "        \n",
    "print('The loop broke on k: ' + str(i))\n",
    "print('Value was: ' + '{:.4e}'.format(partial))\n",
    "\n",
    "# Error\n",
    "\n",
    "print('Relative error is: ' + str(abs((math.exp(-5.5)-partial)/math.exp(-5.5))))"
   ]
  },
  {
   "cell_type": "code",
   "execution_count": 5,
   "metadata": {},
   "outputs": [
    {
     "name": "stdout",
     "output_type": "stream",
     "text": [
      "The loop broke on k: 20\n",
      "Value was: 4.0000e-03\n",
      "Relative error is: 0.021232270943118334\n"
     ]
    }
   ],
   "source": [
    "#  ii) add right to left\n",
    "\n",
    "old_partial = None\n",
    "\n",
    "for k in range(31):\n",
    "    partial = 0\n",
    "    \n",
    "    for i in range(k, -1, -1):\n",
    "        partial += float(term[i][0:6]) * math.pow(10, int(term[i][-3:])) * math.pow(-1, i)\n",
    "        partial = round_five_sigs(partial)\n",
    "\n",
    "    if old_partial == partial:\n",
    "        res = i\n",
    "        break\n",
    "        \n",
    "    old_partial = partial\n",
    "        \n",
    "print('The loop broke on k: ' + str(k))\n",
    "print('Value was: ' + '{:.4e}'.format(partial))\n",
    "\n",
    "# Error\n",
    "\n",
    "print('Relative error is: ' + str(abs((math.exp(-5.5)-partial)/math.exp(-5.5))))"
   ]
  },
  {
   "cell_type": "code",
   "execution_count": 6,
   "metadata": {},
   "outputs": [
    {
     "name": "stdout",
     "output_type": "stream",
     "text": [
      "The loop broke on k: 18\n",
      "Value was: 1.2235e+02\n",
      "The loop broke on k: 19\n",
      "Value was: -1.2235e+02\n",
      "Value was: 0.0000e+00\n",
      "Relative error is: 1.0000000000004805\n"
     ]
    }
   ],
   "source": [
    "#  iii) add left to right postive then negative\n",
    "\n",
    "old_partial = None\n",
    "partial = 0\n",
    "\n",
    "for i in range(0, 31, 2):\n",
    "    old_partial = partial\n",
    "    partial += float(term[i][0:6]) * math.pow(10, int(term[i][-3:])) * math.pow(-1, i)\n",
    "    partial = round_five_sigs(partial)\n",
    "    \n",
    "    if old_partial == partial:\n",
    "        res = i\n",
    "        break\n",
    "        \n",
    "print('The loop broke on k: ' + str(i))\n",
    "print('Value was: ' + '{:.4e}'.format(partial))\n",
    "\n",
    "old_neg_partial = None\n",
    "neg_partial = 0\n",
    "        \n",
    "for i in range(1, 31, 2):\n",
    "    old_neg_partial = neg_partial\n",
    "    neg_partial += float(term[i][0:6]) * math.pow(10, int(term[i][-3:])) * math.pow(-1, i)\n",
    "    neg_partial = round_five_sigs(neg_partial)\n",
    "    \n",
    "    if old_neg_partial == neg_partial:\n",
    "        res = i\n",
    "        break\n",
    "        \n",
    "print('The loop broke on k: ' + str(i))\n",
    "print('Value was: ' + '{:.4e}'.format(neg_partial))\n",
    "\n",
    "# Error\n",
    "print('Value was: ' + '{:.4e}'.format(partial+neg_partial))\n",
    "print('Relative error is: ' + str(abs((math.exp(-5.5)-partial-neg_partial)/math.exp(-5.5))))"
   ]
  },
  {
   "cell_type": "code",
   "execution_count": 7,
   "metadata": {},
   "outputs": [
    {
     "name": "stdout",
     "output_type": "stream",
     "text": [
      "Value was: 1.2236e+02\n",
      "Value was: -1.2235e+02\n",
      "Value was: 1.0000e-02\n",
      "Relative error is: 1.4469193226429755\n"
     ]
    }
   ],
   "source": [
    "#  iv) add right to left postive then negative\n",
    "\n",
    "old_partial = None\n",
    "partial = 0\n",
    "\n",
    "for i in range(30, -1, -2):\n",
    "    old_partial = partial\n",
    "    partial += float(term[i][0:6]) * math.pow(10, int(term[i][-3:])) * math.pow(-1, i)\n",
    "    partial = round_five_sigs(partial)\n",
    "        \n",
    "print('Value was: ' + '{:.4e}'.format(partial))\n",
    "\n",
    "old_neg_partial = None\n",
    "neg_partial = 0\n",
    "        \n",
    "for i in range(29, -1, -2):\n",
    "    old_neg_partial = neg_partial\n",
    "    neg_partial += float(term[i][0:6]) * math.pow(10, int(term[i][-3:])) * math.pow(-1, i)\n",
    "    neg_partial = round_five_sigs(neg_partial)\n",
    "        \n",
    "print('Value was: ' + '{:.4e}'.format(neg_partial))\n",
    "\n",
    "# Error\n",
    "print('Value was: ' + '{:.4e}'.format(partial+neg_partial))\n",
    "print('Relative error is: ' + str(abs((math.exp(-5.5)-partial-neg_partial)/math.exp(-5.5))))"
   ]
  },
  {
   "cell_type": "code",
   "execution_count": 8,
   "metadata": {},
   "outputs": [
    {
     "name": "stdout",
     "output_type": "stream",
     "text": [
      "Value was: 4.0868e-03\n",
      "Relative error is: 6.988777415931331e-06\n"
     ]
    }
   ],
   "source": [
    "# e - better way, yes, invert our e^5.5\n",
    "\n",
    "ans = float(2.4469e+02) # answer from part c\n",
    "ans = round_five_sigs(1/ans)\n",
    "\n",
    "print('Value was: ' + '{:.4e}'.format(ans))\n",
    "\n",
    "# Error\n",
    "print('Relative error is: ' + str(abs((math.exp(-5.5)-ans)/math.exp(-5.5))))"
   ]
  },
  {
   "cell_type": "code",
   "execution_count": null,
   "metadata": {},
   "outputs": [],
   "source": []
  }
 ],
 "metadata": {
  "kernelspec": {
   "display_name": "Python 3",
   "language": "python",
   "name": "python3"
  },
  "language_info": {
   "codemirror_mode": {
    "name": "ipython",
    "version": 3
   },
   "file_extension": ".py",
   "mimetype": "text/x-python",
   "name": "python",
   "nbconvert_exporter": "python",
   "pygments_lexer": "ipython3",
   "version": "3.6.7"
  }
 },
 "nbformat": 4,
 "nbformat_minor": 2
}
